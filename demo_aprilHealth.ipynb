{
 "cells": [
  {
   "cell_type": "code",
   "execution_count": 1,
   "metadata": {},
   "outputs": [
    {
     "name": "stderr",
     "output_type": "stream",
     "text": [
      "/opt/anaconda3/envs/capstone/lib/python3.10/site-packages/tqdm/auto.py:21: TqdmWarning: IProgress not found. Please update jupyter and ipywidgets. See https://ipywidgets.readthedocs.io/en/stable/user_install.html\n",
      "  from .autonotebook import tqdm as notebook_tqdm\n"
     ]
    }
   ],
   "source": [
    "import pandas as pd\n",
    "from transformers import BertTokenizer, BertForTokenClassification\n",
    "import torch\n",
    "import torch.nn.functional as F"
   ]
  },
  {
   "cell_type": "markdown",
   "metadata": {},
   "source": [
    "## Our PDF reader from deck AprilHealth, masked the page with CPT code."
   ]
  },
  {
   "cell_type": "code",
   "execution_count": 2,
   "metadata": {},
   "outputs": [
    {
     "name": "stdout",
     "output_type": "stream",
     "text": [
      "Behavioral Health Support for Primary Care Integrated, Virtual Mental Health Care for Family Medicine, Pediatrics and OBGYN OUR  MISSION Increasing Access to Mental Health Services in Underresourced Areas  While about a quarter of adults have a mental illness, 50 %  of the US population lives in a mental health shortage area.  [company name] sets out to help patients in areas where support is otherwise unavailable.  THE PROBLEM 25% 80% 50%  of PCP visits involve mental health Patients overwhelmingly bring their mental health concerns to primary care providers instead of going directly to specialty care. PCPs act as the de facto triage point but have limited support.of patients with mental health concerns seek support from primary care PCPs work in 15-minute appointments and typically have limited resources and training, putting a strain both on them and their patients.Of the US population lives in a mental health shortage area Given massive shortages, there are frequently 6 +  month waitlists for patients who need specialty mental health support.Communities Lack Access to Mental Healthcare Patients look to primary care as their front line of support, however providers are poorly equipped Collaborative Care ([name]) [name]  integrates physical and mental health care in the primary care setting through counseling and consulting psychiatry.  There have been 80 +  academic studies *  showing :  [name] is highly effective (2x vs. usual care) 1. [name] reduces cost of care substantially 2. [name] drives up patient and provider satisfaction 3. *See details here THE CARE MODEL [company name] Has Aligned Incentives With Primary Care Clinics Improve Outcomes  & Patient Satisfaction Studies of the [name] Model have shown that it is more than 2x as effective as usual care in driving mental health symptoms to remission.  Moreover, 75 %  of patients who are treated through [name] models are highly satisfied with their care. Activate A New  FFS Revenue Stream Collaborative care can generate significant new revenue for partner practices through FFS reimbursement. [company name] generates ~$ 10k in contrbution margin per engaged PCP / year. Improve Risk Adjustments & Reduce Cost of Care We can drive an additional increase in revenue through refining mental health diagnoses and improving risk adjustments. Additionally, [name] has been proven to reduce patient cost of care by $ 3,400 over 4 years. VALUE PROPOSITION. Thank you For more info, contact : [email]\n"
     ]
    }
   ],
   "source": [
    "print(\"Behavioral Health Support for Primary Care Integrated, Virtual Mental Health Care for Family Medicine, Pediatrics and OBGYN OUR  MISSION Increasing Access to Mental Health Services in Underresourced Areas  While about a quarter of adults have a mental illness, 50 %  of the US population lives in a mental health shortage area.  [company name] sets out to help patients in areas where support is otherwise unavailable.  THE PROBLEM 25% 80% 50%  of PCP visits involve mental health Patients overwhelmingly bring their mental health concerns to primary care providers instead of going directly to specialty care. PCPs act as the de facto triage point but have limited support.of patients with mental health concerns seek support from primary care PCPs work in 15-minute appointments and typically have limited resources and training, putting a strain both on them and their patients.Of the US population lives in a mental health shortage area Given massive shortages, there are frequently 6 +  month waitlists for patients who need specialty mental health support.Communities Lack Access to Mental Healthcare Patients look to primary care as their front line of support, however providers are poorly equipped Collaborative Care ([name]) [name]  integrates physical and mental health care in the primary care setting through counseling and consulting psychiatry.  There have been 80 +  academic studies *  showing :  [name] is highly effective (2x vs. usual care) 1. [name] reduces cost of care substantially 2. [name] drives up patient and provider satisfaction 3. *See details here THE CARE MODEL [company name] Has Aligned Incentives With Primary Care Clinics Improve Outcomes  & Patient Satisfaction Studies of the [name] Model have shown that it is more than 2x as effective as usual care in driving mental health symptoms to remission.  Moreover, 75 %  of patients who are treated through [name] models are highly satisfied with their care. Activate A New  FFS Revenue Stream Collaborative care can generate significant new revenue for partner practices through FFS reimbursement. [company name] generates ~$ 10k in contrbution margin per engaged PCP / year. Improve Risk Adjustments & Reduce Cost of Care We can drive an additional increase in revenue through refining mental health diagnoses and improving risk adjustments. Additionally, [name] has been proven to reduce patient cost of care by $ 3,400 over 4 years. VALUE PROPOSITION. Thank you For more info, contact : [email]\")"
   ]
  },
  {
   "cell_type": "markdown",
   "metadata": {},
   "source": [
    "## Input the text into ChatGPT, for now in GPT 4o, summarize the health related information."
   ]
  },
  {
   "cell_type": "markdown",
   "metadata": {},
   "source": [
    "Prompt:\n",
    "\n",
    "Here is the information on a company's product deck. Please summarize the information in three sentences, and each sentence should follow the following format: \n",
    "Sentence 1: A concise statement of the main procedure or service (e.g., type of surgery, diagnostic procedure, therapeutic intervention).\n",
    "Sentence 2: A brief description of the key components or methods involved in the procedure (e.g., tools or techniques used, specific anatomy targeted).\n",
    "Sentence 3 (optional): Mention of any special considerations, such as patient condition, specific approach, or adjunctive procedures that may differentiate the service from similar ones.\n",
    "\n",
    "\n",
    "ChatGPT summarization: \n",
    "\n",
    "[Company name] provides integrated, virtual mental health care for primary care settings, including family medicine, pediatrics, and OBGYN, to increase access to mental health services in underresourced areas. The service includes counseling and consulting psychiatry, integrating mental and physical health care directly within primary care practices, leveraging collaborative care models proven to be twice as effective as usual care. This approach not only enhances patient and provider satisfaction but also generates new revenue streams for partner practices and reduces overall patient costs."
   ]
  },
  {
   "cell_type": "code",
   "execution_count": 9,
   "metadata": {},
   "outputs": [],
   "source": [
    "def seq_to_context_vec(input_text, model, tokenizer):\n",
    "    # assumes bert model\n",
    "    inputs = tokenizer(input_text, return_tensors='pt', padding=True, truncation=True)\n",
    "    outputs = model(**inputs)\n",
    "    hidden_states = outputs.hidden_states  # This will give you a list of all hidden states\n",
    "    last_hidden_state = hidden_states[-1]\n",
    "    context_vec = last_hidden_state[:, 0, :]  # Using [CLS] token embedding for pooling\n",
    "    return context_vec\n",
    "\n",
    "# def add_tokens_to_cpt_csv(csv_file, output_file, tokenizer, model):\n",
    "#     # Read the CSV into a pandas DataFrame\n",
    "#     df = pd.read_csv(csv_file)\n",
    "    \n",
    "#     # Assume the CPT code description is in a column named 'description'\n",
    "#     df['tokens'] = df['Description'].apply(lambda x: seq_to_context_vec(x, model, tokenizer))\n",
    "    \n",
    "#     # Save the modified DataFrame back to a new CSV\n",
    "#     df.to_csv(output_file, index=False)\n",
    "#     print(f\"Tokens added and saved to {output_file}\")\n",
    "\n",
    "def add_tokens_to_cpt_csv(csv_file, output_file, tokenizer, model, batch_size=32):\n",
    "    df = pd.read_csv(csv_file)\n",
    "    tokenized_vectors = []\n",
    "    total_rows = len(df)\n",
    "    last_reported_progress = 0\n",
    "    for i in range(0, total_rows, batch_size):\n",
    "        batch_texts = df['Description'].iloc[i:i + batch_size].tolist()\n",
    "        inputs = tokenizer(batch_texts, return_tensors='pt', padding=True, truncation=True)\n",
    "        outputs = model(**inputs)\n",
    "        last_hidden_state = outputs.hidden_states[-1]\n",
    "        batch_vectors = last_hidden_state[:, 0, :].squeeze().tolist()\n",
    "        tokenized_vectors.extend(batch_vectors)\n",
    "         # Calculate progress and report every 10%\n",
    "        progress = int((i + batch_size) / total_rows * 100)\n",
    "        if progress >= last_reported_progress + 10:\n",
    "            print(f\"Processing: {progress}% completed\")\n",
    "            last_reported_progress = progress  # Update the last reported percentage\n",
    "    \n",
    "    df['tokens'] = tokenized_vectors\n",
    "    df.to_csv(output_file, index=False)\n",
    "    print(f\"Tokens added and saved to {output_file}\")\n",
    "\n",
    "\n",
    "def get_top_k_cpt_matches(deck_summary, cpt_tokens, model, tokenizer, k=5):\n",
    "    \n",
    "    # Get the contextual embeddings for the deck summary\n",
    "    deck_embedding = seq_to_context_vec(deck_summary, model, tokenizer)\n",
    "\n",
    "    df = cpt_tokens\n",
    "\n",
    "    # Add cosine similarities to DataFrame\n",
    "    df['cos_sim'] = df['encoding'].apply(lambda x: F.cosine_similarity(deck_embedding, x).item())\n",
    "    \n",
    "    # Sort by similarity and return top K results\n",
    "    top_k_df = df.sort_values(by='cos_sim', ascending=False).head(k)\n",
    "    \n",
    "    # Select relevant columns for output\n",
    "    result = top_k_df[['CPT', 'cos_sim']].to_dict(orient='records')\n",
    "    return result"
   ]
  },
  {
   "cell_type": "code",
   "execution_count": 4,
   "metadata": {},
   "outputs": [],
   "source": [
    "# load cpt code\n",
    "# this cpt code and encodings is found through https://github.com/sangstar/cpt_icd_fetcher/tree/master\n",
    "# cpt_df = pd.read_csv('biobert_cpt_with_encodings.csv')\n",
    "# cpt_df = cpt_df.drop_duplicates(subset = ['label'])\n",
    "# cpt_df['encoding'] = cpt_df['encoding'].apply(eval)\n",
    "# cpt_df['encoding'] = cpt_df['encoding'].apply(torch.FloatTensor)\n",
    "# cpt_df = cpt_df[cpt_df.columns[1:]]\n",
    "# cpt_df.columns = ['CPT','label','encoding']\n",
    "# cpt_df.head()"
   ]
  },
  {
   "cell_type": "code",
   "execution_count": null,
   "metadata": {},
   "outputs": [],
   "source": [
    "# load biobert model and tokenizer\n",
    "biobert_model_name = \"alvaroalon2/biobert_diseases_ner\"\n",
    "bert_model_name = \"dmis-lab/biobert-v1.1\"\n",
    "biobert = BertForTokenClassification.from_pretrained(biobert_model_name, output_hidden_states=True)\n",
    "biobert_tokenizer = BertTokenizer.from_pretrained(biobert_model_name)"
   ]
  },
  {
   "cell_type": "code",
   "execution_count": 10,
   "metadata": {},
   "outputs": [
    {
     "name": "stdout",
     "output_type": "stream",
     "text": [
      "Processing: 10% completed\n",
      "Processing: 20% completed\n",
      "Processing: 30% completed\n",
      "Processing: 40% completed\n",
      "Processing: 50% completed\n",
      "Processing: 60% completed\n",
      "Processing: 70% completed\n",
      "Processing: 80% completed\n",
      "Processing: 90% completed\n",
      "Processing: 100% completed\n",
      "Tokens added and saved to cpt_codes_excludeNotFound_tokenized.csv\n"
     ]
    }
   ],
   "source": [
    "# process cpt codes into biobert tokens\n",
    "add_tokens_to_cpt_csv('cpt_codes_excludeNotFound.csv', 'cpt_codes_excludeNotFound_tokenized.csv', biobert_tokenizer, biobert)"
   ]
  },
  {
   "cell_type": "code",
   "execution_count": 26,
   "metadata": {},
   "outputs": [
    {
     "data": {
      "text/html": [
       "<div>\n",
       "<style scoped>\n",
       "    .dataframe tbody tr th:only-of-type {\n",
       "        vertical-align: middle;\n",
       "    }\n",
       "\n",
       "    .dataframe tbody tr th {\n",
       "        vertical-align: top;\n",
       "    }\n",
       "\n",
       "    .dataframe thead th {\n",
       "        text-align: right;\n",
       "    }\n",
       "</style>\n",
       "<table border=\"1\" class=\"dataframe\">\n",
       "  <thead>\n",
       "    <tr style=\"text-align: right;\">\n",
       "      <th></th>\n",
       "      <th>CPT</th>\n",
       "      <th>Description</th>\n",
       "      <th>encoding</th>\n",
       "    </tr>\n",
       "  </thead>\n",
       "  <tbody>\n",
       "    <tr>\n",
       "      <th>0</th>\n",
       "      <td>222</td>\n",
       "      <td>The provider performs anesthesia services for ...</td>\n",
       "      <td>[tensor(0.0820), tensor(-0.2664), tensor(0.452...</td>\n",
       "    </tr>\n",
       "    <tr>\n",
       "      <th>1</th>\n",
       "      <td>190</td>\n",
       "      <td>The provider performs anesthesia services for ...</td>\n",
       "      <td>[tensor(0.1073), tensor(-0.2667), tensor(0.455...</td>\n",
       "    </tr>\n",
       "    <tr>\n",
       "      <th>2</th>\n",
       "      <td>192</td>\n",
       "      <td>The provider performs anesthesia services for ...</td>\n",
       "      <td>[tensor(0.2319), tensor(-0.1843), tensor(0.245...</td>\n",
       "    </tr>\n",
       "    <tr>\n",
       "      <th>3</th>\n",
       "      <td>210</td>\n",
       "      <td>The provider performs anesthesia services for ...</td>\n",
       "      <td>[tensor(0.1152), tensor(-0.2335), tensor(0.476...</td>\n",
       "    </tr>\n",
       "    <tr>\n",
       "      <th>4</th>\n",
       "      <td>211</td>\n",
       "      <td>The provider performs anesthesia services for ...</td>\n",
       "      <td>[tensor(0.0839), tensor(-0.1535), tensor(0.490...</td>\n",
       "    </tr>\n",
       "  </tbody>\n",
       "</table>\n",
       "</div>"
      ],
      "text/plain": [
       "   CPT                                        Description  \\\n",
       "0  222  The provider performs anesthesia services for ...   \n",
       "1  190  The provider performs anesthesia services for ...   \n",
       "2  192  The provider performs anesthesia services for ...   \n",
       "3  210  The provider performs anesthesia services for ...   \n",
       "4  211  The provider performs anesthesia services for ...   \n",
       "\n",
       "                                            encoding  \n",
       "0  [tensor(0.0820), tensor(-0.2664), tensor(0.452...  \n",
       "1  [tensor(0.1073), tensor(-0.2667), tensor(0.455...  \n",
       "2  [tensor(0.2319), tensor(-0.1843), tensor(0.245...  \n",
       "3  [tensor(0.1152), tensor(-0.2335), tensor(0.476...  \n",
       "4  [tensor(0.0839), tensor(-0.1535), tensor(0.490...  "
      ]
     },
     "execution_count": 26,
     "metadata": {},
     "output_type": "execute_result"
    }
   ],
   "source": [
    "cpt_tokens = pd.read_csv('cpt_codes_excludeNotFound_tokenized.csv').drop_duplicates()\n",
    "cpt_tokens = cpt_tokens.rename(columns = {'tokens':'encoding', 'Code': 'CPT'})\n",
    "cpt_tokens['encoding'] = cpt_tokens['encoding'].apply(eval)\n",
    "cpt_tokens['encoding'] = cpt_tokens['encoding'].apply(torch.FloatTensor)\n",
    "cpt_tokens.head()"
   ]
  },
  {
   "cell_type": "code",
   "execution_count": 35,
   "metadata": {},
   "outputs": [
    {
     "name": "stdout",
     "output_type": "stream",
     "text": [
      "CPT Code 96164 has cosine similarity 0.989224910736084\n",
      "CPT Code 96165 has cosine similarity 0.9891659617424011\n",
      "CPT Code 93287 has cosine similarity 0.9887676239013672\n",
      "CPT Code 93284 has cosine similarity 0.9886974096298218\n",
      "CPT Code 74455 has cosine similarity 0.9885310530662537\n"
     ]
    }
   ],
   "source": [
    "# load deck summary\n",
    "deck_summary = \"[Company name] provides integrated, virtual mental health care for primary care settings, including family medicine, pediatrics, and OBGYN, to increase access to mental health services in underresourced areas. The service includes counseling and consulting psychiatry, integrating mental and physical health care directly within primary care practices, leveraging collaborative care models proven to be twice as effective as usual care. This approach not only enhances patient and provider satisfaction but also generates new revenue streams for partner practices and reduces overall patient costs.\"\n",
    "\n",
    "# find top 5 potential cpt\n",
    "top_k_results = get_top_k_cpt_matches(deck_summary, cpt_tokens, biobert, biobert_tokenizer, k=5)\n",
    "for i in top_k_results:\n",
    "    print(f\"CPT Code {i['CPT']} has cosine similarity {i['cos_sim']}\")"
   ]
  },
  {
   "cell_type": "code",
   "execution_count": 31,
   "metadata": {},
   "outputs": [
    {
     "data": {
      "text/html": [
       "<div>\n",
       "<style scoped>\n",
       "    .dataframe tbody tr th:only-of-type {\n",
       "        vertical-align: middle;\n",
       "    }\n",
       "\n",
       "    .dataframe tbody tr th {\n",
       "        vertical-align: top;\n",
       "    }\n",
       "\n",
       "    .dataframe thead th {\n",
       "        text-align: right;\n",
       "    }\n",
       "</style>\n",
       "<table border=\"1\" class=\"dataframe\">\n",
       "  <thead>\n",
       "    <tr style=\"text-align: right;\">\n",
       "      <th></th>\n",
       "      <th>CPT</th>\n",
       "      <th>Description</th>\n",
       "      <th>encoding</th>\n",
       "      <th>cos_sim</th>\n",
       "    </tr>\n",
       "  </thead>\n",
       "  <tbody>\n",
       "    <tr>\n",
       "      <th>10327</th>\n",
       "      <td>99493</td>\n",
       "      <td>A provider performs psychiatric collaborative ...</td>\n",
       "      <td>[tensor(0.3517), tensor(-0.3995), tensor(0.600...</td>\n",
       "      <td>0.971585</td>\n",
       "    </tr>\n",
       "    <tr>\n",
       "      <th>10328</th>\n",
       "      <td>99494</td>\n",
       "      <td>A provider performs psychiatric collaborative ...</td>\n",
       "      <td>[tensor(0.0984), tensor(-0.3630), tensor(0.562...</td>\n",
       "      <td>0.985518</td>\n",
       "    </tr>\n",
       "    <tr>\n",
       "      <th>10331</th>\n",
       "      <td>99497</td>\n",
       "      <td>The provider discusses and shares planning wit...</td>\n",
       "      <td>[tensor(0.1588), tensor(-0.3232), tensor(0.607...</td>\n",
       "      <td>0.981951</td>\n",
       "    </tr>\n",
       "  </tbody>\n",
       "</table>\n",
       "</div>"
      ],
      "text/plain": [
       "         CPT                                        Description  \\\n",
       "10327  99493  A provider performs psychiatric collaborative ...   \n",
       "10328  99494  A provider performs psychiatric collaborative ...   \n",
       "10331  99497  The provider discusses and shares planning wit...   \n",
       "\n",
       "                                                encoding   cos_sim  \n",
       "10327  [tensor(0.3517), tensor(-0.3995), tensor(0.600...  0.971585  \n",
       "10328  [tensor(0.0984), tensor(-0.3630), tensor(0.562...  0.985518  \n",
       "10331  [tensor(0.1588), tensor(-0.3232), tensor(0.607...  0.981951  "
      ]
     },
     "execution_count": 31,
     "metadata": {},
     "output_type": "execute_result"
    }
   ],
   "source": [
    "# ground truth cos_sim\n",
    "cpt_tokens[cpt_tokens['CPT'].isin([\"99497\", \"99493\", \"99494\"])]"
   ]
  },
  {
   "cell_type": "code",
   "execution_count": null,
   "metadata": {},
   "outputs": [],
   "source": []
  }
 ],
 "metadata": {
  "kernelspec": {
   "display_name": "capstone",
   "language": "python",
   "name": "python3"
  },
  "language_info": {
   "codemirror_mode": {
    "name": "ipython",
    "version": 3
   },
   "file_extension": ".py",
   "mimetype": "text/x-python",
   "name": "python",
   "nbconvert_exporter": "python",
   "pygments_lexer": "ipython3",
   "version": "3.10.15"
  }
 },
 "nbformat": 4,
 "nbformat_minor": 2
}
