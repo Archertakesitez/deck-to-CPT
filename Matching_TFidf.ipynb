{
 "cells": [
  {
   "cell_type": "code",
   "execution_count": 1,
   "metadata": {},
   "outputs": [
    {
     "name": "stderr",
     "output_type": "stream",
     "text": [
      "/Users/apple/anaconda3/lib/python3.10/site-packages/tqdm/auto.py:22: TqdmWarning: IProgress not found. Please update jupyter and ipywidgets. See https://ipywidgets.readthedocs.io/en/stable/user_install.html\n",
      "  from .autonotebook import tqdm as notebook_tqdm\n"
     ]
    }
   ],
   "source": [
    "import pandas as pd\n",
    "from sklearn.metrics.pairwise import cosine_similarity\n",
    "from sklearn.feature_extraction.text import TfidfVectorizer"
   ]
  },
  {
   "cell_type": "code",
   "execution_count": 2,
   "metadata": {},
   "outputs": [],
   "source": [
    "# Load CPT Codes from Excel File\n",
    "cpt_file = \"cpt_codes.xlsx\"\n",
    "cpt_data = pd.read_excel(cpt_file)\n",
    "\n",
    "# Extract codes and descriptions\n",
    "cpt_descriptions = cpt_data[\"Description\"].tolist()"
   ]
  },
  {
   "cell_type": "code",
   "execution_count": 3,
   "metadata": {},
   "outputs": [],
   "source": [
    "pitch_text = \"Behavioral Health Support for Primary Care Integrated, Virtual Mental Health Care for Family Medicine, Pediatrics and OBGYN OUR  MISSION Increasing Access to Mental Health Services in Underresourced Areas  While about a quarter of adults have a mental illness, 50 %  of the US population lives in a mental health shortage area.  [company name] sets out to help patients in areas where support is otherwise unavailable.  THE PROBLEM 25% 80% 50%  of PCP visits involve mental health Patients overwhelmingly bring their mental health concerns to primary care providers instead of going directly to specialty care. PCPs act as the de facto triage point but have limited support.of patients with mental health concerns seek support from primary care PCPs work in 15-minute appointments and typically have limited resources and training, putting a strain both on them and their patients.Of the US population lives in a mental health shortage area Given massive shortages, there are frequently 6 +  month waitlists for patients who need specialty mental health support.Communities Lack Access to Mental Healthcare Patients look to primary care as their front line of support, however providers are poorly equipped Collaborative Care ([name]) [name]  integrates physical and mental health care in the primary care setting through counseling and consulting psychiatry.  There have been 80 +  academic studies *  showing :  [name] is highly effective (2x vs. usual care) 1. [name] reduces cost of care substantially 2. [name] drives up patient and provider satisfaction 3. *See details here THE CARE MODEL [company name] Has Aligned Incentives With Primary Care Clinics Improve Outcomes  & Patient Satisfaction Studies of the [name] Model have shown that it is more than 2x as effective as usual care in driving mental health symptoms to remission.  Moreover, 75 %  of patients who are treated through [name] models are highly satisfied with their care. Activate A New  FFS Revenue Stream Collaborative care can generate significant new revenue for partner practices through FFS reimbursement. [company name] generates ~$ 10k in contrbution margin per engaged PCP / year. Improve Risk Adjustments & Reduce Cost of Care We can drive an additional increase in revenue through refining mental health diagnoses and improving risk adjustments. Additionally, [name] has been proven to reduce patient cost of care by $ 3,400 over 4 years. VALUE PROPOSITION. Thank you For more info, contact : [email]\"\n"
   ]
  },
  {
   "cell_type": "code",
   "execution_count": 13,
   "metadata": {},
   "outputs": [
    {
     "name": "stdout",
     "output_type": "stream",
     "text": [
      "Code: 99375, Description: Report this service when the provider supervises the care provided by a home health agency, overseeing the plan of care, while the patient is at home or in a facility meant for long–term care. For 99375 the provider should spend 30 minutes or more on a patient’s indirect care., Score: 0.2920122671021555\n",
      "Code: 99493, Description: A provider performs psychiatric collaborative care management (CoCM) for a patient receiving behavioral health treatment and regular psychiatric interspecialty consultation in collaboration and in conjunction with a patient’s treating (or billing) primary care provider.?Report?99493?for the first 60 minutes of CoCM in a subsequent month after the first month of care.?, Score: 0.2581073391292682\n",
      "Code: 99374, Description: Report this service when the provider oversees the plan of care provided by a home health agency while the patient is at home or in a facility meant for long–term care. For 99374 the provider should spend a minimum 15–29 minutes on a patient’s indirect care., Score: 0.25004135525376137\n",
      "Code: 99494, Description: A provider performs psychiatric collaborative care management (CoCM) for a patient receiving behavioral health treatment and regular psychiatric interspecialty consultation whose conditions are not improving in collaboration and in conjunction with a patient’s treating (or billing) primary care provider. Report this code in addition to 99492 or 99493 for each additional 30 minutes of initial or subsequent psychiatric care management in a calendar month, in addition to the primary codes., Score: 0.2332112696918336\n",
      "Code: 99379, Description: Report this service when the provider supervises the care provided at a nursing facility, overseeing the plan of care. For 99379 the provider should spend 15–29 minutes on the patient’s indirect care., Score: 0.2296355969872238\n"
     ]
    }
   ],
   "source": [
    "# Corpus: combine description for the CPT in this row and pitch text\n",
    "def find_relevant_cpt_codes_tfidf(pitch_text, cpt_data, top_n=5):\n",
    "    # Create a list to store similarity scores\n",
    "    relevant_codes = []\n",
    "    \n",
    "    # Corpus: combine description for the CPT in this row and pitch text\n",
    "    # Iterate through each CPT description to compare with the extracted text\n",
    "    for index, row in cpt_data.iterrows():\n",
    "        corpus = [row['Description'], pitch_text]\n",
    "        \n",
    "        # Convert the corpus into a TF-IDF matrix\n",
    "        vectorizer = TfidfVectorizer(stop_words='english')\n",
    "        tfidf_matrix = vectorizer.fit_transform(corpus)\n",
    "        \n",
    "        # Calculate cosine similarity between the extracted text and the CPT description\n",
    "        cosine_sim = cosine_similarity(tfidf_matrix[0:1], tfidf_matrix[1:2]).flatten()[0]\n",
    "        \n",
    "        # Append the code, description, and similarity score\n",
    "        relevant_codes.append({\n",
    "            'Code': row['Code'],\n",
    "            'Description': row['Description'],\n",
    "            'Score': cosine_sim\n",
    "        })\n",
    "    \n",
    "    # Sort the relevant codes by similarity score in descending order and return the top matches\n",
    "    relevant_codes = sorted(relevant_codes, key=lambda x: x['Score'], reverse=True)[:top_n]\n",
    "    return relevant_codes\n",
    "\n",
    "relevant_codes = find_relevant_cpt_codes_tfidf(pitch_text, cpt_data)\n",
    "\n",
    "# Display the relevant CPT codes\n",
    "for code in relevant_codes:\n",
    "    print(f\"Code: {code['Code']}, Description: {code['Description']}, Score: {code['Score']}\")"
   ]
  }
 ],
 "metadata": {
  "kernelspec": {
   "display_name": "Python 3 (ipykernel)",
   "language": "python",
   "name": "python3"
  },
  "language_info": {
   "codemirror_mode": {
    "name": "ipython",
    "version": 3
   },
   "file_extension": ".py",
   "mimetype": "text/x-python",
   "name": "python",
   "nbconvert_exporter": "python",
   "pygments_lexer": "ipython3",
   "version": "3.10.8"
  }
 },
 "nbformat": 4,
 "nbformat_minor": 2
}
