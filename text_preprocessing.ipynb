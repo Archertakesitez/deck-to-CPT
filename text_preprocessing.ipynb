{
 "cells": [
  {
   "cell_type": "code",
   "execution_count": null,
   "id": "514f999e",
   "metadata": {
    "vscode": {
     "languageId": "plaintext"
    }
   },
   "outputs": [],
   "source": [
    "import pandas as pd\n",
    "import re\n",
    "import nltk\n",
    "from nltk.corpus import stopwords\n",
    "from nltk.tokenize import word_tokenize\n",
    "\n",
    "# Ensure you download the necessary NLTK resources if running for the first time\n",
    "nltk.download('punkt')\n",
    "nltk.download('stopwords')"
   ]
  },
  {
   "cell_type": "code",
   "execution_count": null,
   "id": "c3fb655e",
   "metadata": {
    "vscode": {
     "languageId": "plaintext"
    }
   },
   "outputs": [],
   "source": [
    "# Define the text preprocessing function\n",
    "def preprocess_text(text_list, csv_file):\n",
    "    \"\"\"\n",
    "    Preprocesses the input text and CSV file containing codes and descriptions.\n",
    "    \n",
    "    Args:\n",
    "        text_list (list): List of extracted strings from the pitch deck.\n",
    "        csv_file (str): Path to the CSV file containing 'Code' and 'Description'.\n",
    "    \n",
    "    Returns:\n",
    "        processed_text_list (list): List of preprocessed strings from the pitch deck.\n",
    "        cpt_df (pd.DataFrame): DataFrame with preprocessed CPT code descriptions.\n",
    "    \"\"\"\n",
    "    # Load the CSV file into a DataFrame\n",
    "    cpt_df = pd.read_csv(csv_file)\n",
    "    \n",
    "    # Preprocess both the extracted text and the CPT descriptions\n",
    "    def clean_text(text):\n",
    "        # Lowercase\n",
    "        text = text.lower()\n",
    "        \n",
    "        # Remove special characters and numbers\n",
    "        text = re.sub(r'[^a-z\\s]', '', text)\n",
    "        \n",
    "        # Tokenize the text\n",
    "        words = word_tokenize(text)\n",
    "        \n",
    "        # Remove stopwords\n",
    "        stop_words = set(stopwords.words('english'))\n",
    "        words = [word for word in words if word not in stop_words]\n",
    "        \n",
    "        # Join words back to a cleaned sentence\n",
    "        cleaned_text = ' '.join(words)\n",
    "        \n",
    "        return cleaned_text\n",
    "    \n",
    "    # Apply preprocessing to the pitch deck text\n",
    "    processed_text_list = [clean_text(text) for text in text_list]\n",
    "    \n",
    "    # Apply preprocessing to the CPT descriptions in the DataFrame\n",
    "    cpt_df['Description'] = cpt_df['Description'].apply(clean_text)\n",
    "    \n",
    "    return processed_text_list, cpt_df"
   ]
  },
  {
   "cell_type": "code",
   "execution_count": null,
   "id": "0cdbae19",
   "metadata": {
    "vscode": {
     "languageId": "plaintext"
    }
   },
   "outputs": [],
   "source": [
    "csv_file_path = 'cpt_codes.csv'  # Path to your CSV file containing CPT codes and descriptions\n",
    "\n",
    "# Preprocess the text and CPT descriptions\n",
    "processed_text, processed_cpt_df = preprocess_text(pitch_deck_text, csv_file_path)\n",
    "\n",
    "# Display the processed outputs\n",
    "print(\"Processed Text List from Pitch Deck:\")\n",
    "print(processed_text)\n",
    "print(\"\\nProcessed CPT DataFrame:\")\n",
    "print(processed_cpt_df.head())"
   ]
  }
 ],
 "metadata": {
  "kernelspec": {
   "display_name": "Python 3 (ipykernel)",
   "language": "python",
   "name": "python3"
  },
  "language_info": {
   "codemirror_mode": {
    "name": "ipython",
    "version": 3
   },
   "file_extension": ".py",
   "mimetype": "text/x-python",
   "name": "python",
   "nbconvert_exporter": "python",
   "pygments_lexer": "ipython3",
   "version": "3.10.8"
  },
  "vscode": {
   "interpreter": {
    "hash": "aee8b7b246df8f9039afb4144a1f6fd8d2ca17a180786b69acc140d282b71a49"
   }
  }
 },
 "nbformat": 4,
 "nbformat_minor": 5
}
